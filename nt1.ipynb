{
 "cells": [
  {
   "cell_type": "code",
   "execution_count": null,
   "metadata": {},
   "outputs": [
    {
     "name": "stdout",
     "output_type": "stream",
     "text": [
      "Narutinho\n"
     ]
    }
   ],
   "source": [
    "#!pip install newspaper3k\n",
    "from newspaper import Article\n",
    "import pandas as pd\n",
    "article = Article('https://pt.wikipedia.org/wiki/Hist%C3%B3ria_do_cinema', 'pt-br')\n",
    "article.download()\n",
    "article.parse()\n",
    "\n",
    "#!pip install wordcloud\n",
    "from wordcloud import WordCloud, STOPWORDS\n",
    "\n",
    "STOPWORDS = ['ver','principal','essa','vez','nas','mas',\n",
    "             'qual','principal','ele','ter','doença','pois','este',\n",
    "             'vez','ver principal','artigo principal','já',\n",
    "             'aos','pode','outro','artigo','desse',\n",
    "             'alguns','meio','entre','das','podem','esse',\n",
    "             'seu','também','são','quando','de', 'que','em',\n",
    "             'os','as','da','como','dos','ou','se','um','uma',\n",
    "             'para','na','ao','mais','por','não','ainda','muito','sua',\n",
    "             'a', 'é', 'o', 'e', 'no', 'do']\n",
    "\n",
    "import matplotlib.pyplot as plt\n",
    "%matplotlib inline\n",
    "import numpy as np\n",
    "from PIL import Image\n",
    "#dataset = open(\"sampleWords.txt\", \"r\").read()\n",
    "def create_word_cloud(string):\n",
    "   maskArray = np.array(Image.open(\"cloud.jpg\")) #uso do numpy\n",
    "   cloud = WordCloud(background_color = \"white\", max_font_size=50, max_words = 5000, mask = maskArray, stopwords = set(STOPWORDS))\n",
    "   cloud.generate(string)\n",
    "   cloud.to_file(\"wordCloud.png\")\n",
    "   plt.figure()\n",
    "   plt.imshow(cloud, interpolation='bilinear')\n",
    "   plt.axis('off')\n",
    "#dataset = dataset.lower()\n",
    "print(\"Narutinho\")\n",
    "create_word_cloud(article.text)"
   ]
  },
  {
   "cell_type": "code",
   "execution_count": null,
   "metadata": {},
   "outputs": [],
   "source": []
  }
 ],
 "metadata": {
  "kernelspec": {
   "display_name": "Python 3",
   "language": "python",
   "name": "python3"
  },
  "language_info": {
   "codemirror_mode": {
    "name": "ipython",
    "version": 3
   },
   "file_extension": ".py",
   "mimetype": "text/x-python",
   "name": "python",
   "nbconvert_exporter": "python",
   "pygments_lexer": "ipython3",
   "version": "3.8.5"
  }
 },
 "nbformat": 4,
 "nbformat_minor": 4
}
