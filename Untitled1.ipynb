{
 "cells": [
  {
   "cell_type": "code",
   "execution_count": 1,
   "metadata": {},
   "outputs": [
    {
     "name": "stderr",
     "output_type": "stream",
     "text": [
      "[WDM] - ====== WebDriver manager ======\n",
      "[WDM] - Current google-chrome version is 88.0.4324\n",
      "[WDM] - Get LATEST driver version for 88.0.4324\n"
     ]
    },
    {
     "name": "stdout",
     "output_type": "stream",
     "text": [
      "\n",
      "\n"
     ]
    },
    {
     "name": "stderr",
     "output_type": "stream",
     "text": [
      "[WDM] - Driver [C:\\Users\\georg\\.wdm\\drivers\\chromedriver\\win32\\88.0.4324.96\\chromedriver.exe] found in cache\n"
     ]
    }
   ],
   "source": [
    "import requests\n",
    "from bs4 import BeautifulSoup as soup\n",
    "\n",
    "url = 'https://www.loteriaseresultados.com.br/index.php/megasena/concurso/2340'\n",
    "# Não encontra a tag, pois traz o Javascript renderizado e não o HTML completo da página\n",
    "# Solução - utilizar lib como Selenium para ter acesso ao HTML full - sem a parte gráfica renderizada pelo browser\n",
    "\n",
    "#-------------------- até aqui foi para demonstrar que não retorna pelo método padrão ------------- #\n",
    "#!pip install -U selenium\n",
    "\n",
    "from selenium import webdriver\n",
    "\n",
    "# --- caso não funcione com o procedimento mais simples --- \n",
    "#!pip install webdriver-manager\n",
    "from webdriver_manager.chrome import ChromeDriverManager\n",
    "driver = webdriver.Chrome(ChromeDriverManager().install())\n",
    "\n",
    "options = webdriver.ChromeOptions()\n",
    "options.add_argument('headless') # O mais importante, não renderiza parte gráfica\n",
    "options.add_argument('window-size=1920x1080')\n",
    "# outras opções:\n",
    "\"\"\" disable-gpu\n",
    "    ignore-certificate-errors\n",
    "    disable-extensions\n",
    "    etc.\n",
    "\"\"\"\n",
    "# altere aqui para o seu PATH incluindo o .exe\n",
    "driver = webdriver.Chrome(executable_path = r'C:/Users/georg/chromedriver.exe', options = options)\n",
    "\n",
    "\"\"\" o método get() abre a URL e aguarda até todo o conteúdo estar carregado. O WebDriver \n",
    "    aguardará toda a página estar carregada até retornar o controle para o script \"\"\"\n",
    "\n",
    "driver.get(url)\n",
    "# verifica se abriu ok\n",
    "print(driver.current_url)\n",
    "\n",
    "\"\"\" comandos selenium de busca (retornam WebElements ou Exceção noSuchElementException):\n",
    "    URL: https://selenium-python.readthedocs.io/locating-elements.html#locating-elements\n",
    "    find_element_by_class_name(className)\n",
    "    find_element_by_id\n",
    "    find_element_by_css_selector\n",
    "    find_element_by_link_text (por texto de href)\n",
    "    find_element_by_partial_link_text (por pedaço de texto de href)\n",
    "    find_element_by_tag_name\n",
    "    find_element_by_xpath\n",
    "    \n",
    "    Este comando retorna a primeira ocorrência. Para encontrar todas, as funções acima possuem a versão que retorna lista\n",
    "    trocando _element por _elements (find_elements_by_id) etc.\n",
    "    \n",
    "\"\"\"\n",
    "    \n",
    "try:\n",
    "    \n",
    "    # uma opção é obter todo o body (ou parte mais específica) da página com o selenium/webdriver e passar ao BSoup para análise padrão\n",
    "    body = driver.find_element_by_tag_name('body')\n",
    "    html = body.get_attribute('innerHTML')\n",
    "    soupPage = soup(html, 'html5lib')\n",
    "    spanList = soupPage.findAll( \"span\", class_='white--text font-weight-bold')\n",
    "    #print(spanList)\n",
    "    for n in range(6):\n",
    "        print(spanList[n].text)\n",
    "    \n",
    "    \n",
    "    print('-------- segundo método ---------')\n",
    "    \n",
    "    driver = webdriver.Chrome(executable_path = r'C:/Users/georg/chromedriver.exe', options = options)\n",
    "\n",
    "    #driver.get(url)\n",
    "    \n",
    "    # No caso de classe ou id com espaço, a sintaxe abaixo é a indicada, colocar simplesmente o nome da classe não reconhece\n",
    "    \n",
    "    content = driver.find_elements_by_css_selector(\"span[class='white--text font-weight-bold']\")\n",
    "    \n",
    "    # Será retornada uma lista com os elementos, portanto, podemos percorrer. Ao olhar a URl, vemos 09 elementos com esta\n",
    "    # classe, e só estamos interessados nos 06 primeiros. Então, faremos um laço:\n",
    "    \n",
    "    for n in range(6):\n",
    "        print(content[n].get_attribute('innerHTML'))\n",
    "except:\n",
    "    print('criterio nao encontrado')\n",
    "    \n",
    "print('Terminei a raspagem de dados')\n",
    "driver.close()\n",
    "\n",
    "tb.insert_one({\n",
    "            'concurso': concurso,\n",
    "            'numeros':lista,\n",
    "            'sena': {\n",
    "                'ganhadores': str(ganhadores[1].text),\n",
    "                'valor': str(premios[0].text)\n",
    "            },\n",
    "            'quina': {\n",
    "                'ganhadores': str(ganhadores[3].text),\n",
    "                'valor': str(premios[1].text)\n",
    "            },\n",
    "            'quadra': {\n",
    "                'ganhadores': str(ganhadores[5].text),\n",
    "                'valor': str(premios[2].text)\n",
    "            }\n",
    "        })"
   ]
  },
  {
   "cell_type": "code",
   "execution_count": null,
   "metadata": {},
   "outputs": [],
   "source": []
  }
 ],
 "metadata": {
  "kernelspec": {
   "display_name": "Python 3",
   "language": "python",
   "name": "python3"
  },
  "language_info": {
   "codemirror_mode": {
    "name": "ipython",
    "version": 3
   },
   "file_extension": ".py",
   "mimetype": "text/x-python",
   "name": "python",
   "nbconvert_exporter": "python",
   "pygments_lexer": "ipython3",
   "version": "3.8.5"
  }
 },
 "nbformat": 4,
 "nbformat_minor": 4
}
